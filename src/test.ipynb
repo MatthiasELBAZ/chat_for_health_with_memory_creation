{
 "cells": [
  {
   "cell_type": "code",
   "execution_count": 1,
   "id": "83e84879",
   "metadata": {},
   "outputs": [],
   "source": [
    "# from agent.graph import graph\n",
    "from agent.context import Context\n",
    "from langgraph.store.memory import InMemoryStore\n",
    "from langgraph.checkpoint.memory import MemorySaver\n",
    "from agent.graph import builder\n",
    "\n",
    "# Create the context and store\n",
    "context = Context(\n",
    "    user_id=\"test_user1\",\n",
    "    model=\"anthropic/claude-3-5-sonnet-20240620\",\n",
    ")\n",
    "\n",
    "store = InMemoryStore()\n",
    "\n",
    "# Build the graph with store and checkpointer\n",
    "graph = builder.compile(store=store, checkpointer=MemorySaver())\n",
    "\n",
    "# Now invoke the graph with proper configuration\n",
    "\n",
    "conversation = [\n",
    "        [\"My name is Alice and I love pizza. Remember this.\"],\n",
    "        [\n",
    "            \"Hi, I'm Bob and I enjoy playing tennis. Remember this.\",\n",
    "            \"Yes, I also have a pet dog named Max.\",\n",
    "            \"Max is a golden retriever and he's 5 years old. Please remember this too.\",\n",
    "        ],\n",
    "        [\n",
    "            \"Hello, I'm Charlie. I work as a software engineer and I'm passionate about AI. Remember this.\",\n",
    "            \"I specialize in machine learning algorithms and I'm currently working on a project involving natural language processing.\",\n",
    "            \"My main goal is to improve sentiment analysis accuracy in multi-lingual texts. It's challenging but exciting.\",\n",
    "            \"We've made some progress using transformer models, but we're still working on handling context and idioms across languages.\",\n",
    "            \"Chinese and English have been the most challenging pair so far due to their vast differences in structure and cultural contexts.\",\n",
    "        ],\n",
    "    ]\n",
    "\n",
    "\n",
    "res =  await graph.ainvoke(\n",
    "        {\"messages\": [(\"user\", \"Hello, how are you?\")]},\n",
    "        {\"thread_id\": \"thread1\"},\n",
    "        context=context,\n",
    "    )\n",
    "\n",
    "namespace = (\"memories\", context.user_id)\n",
    "memories = store.search(namespace)\n",
    "\n",
    "# ls.expect(len(memories)).to_be_greater_than(0)\n",
    "\n",
    "bad_namespace = (\"memories\", \"wrong-user\")\n",
    "bad_memories = store.search(bad_namespace)\n",
    "# ls.expect(len(bad_memories)).to_equal(0)"
   ]
  },
  {
   "cell_type": "code",
   "execution_count": 3,
   "id": "a8c7d7f3",
   "metadata": {},
   "outputs": [
    {
     "data": {
      "text/plain": [
       "AIMessage(content=\"Hello! I'm doing well, thank you for asking. As your Fitbit AI Health Assistant, I'm here to help you make healthier lifestyle choices and provide personalized insights based on your health data. How can I assist you today? \\n\\nWould you like to:\\n1. Review your recent activity data?\\n2. Get insights on your sleep patterns?\\n3. Discuss your current health goals?\\n4. Learn about new features or tips to improve your health tracking?\\n\\nFeel free to ask about any of these topics or anything else related to your health and fitness journey. I'm here to help!\", additional_kwargs={}, response_metadata={'id': 'msg_01D9gLQVhnRWKAjRsaBbfBcF', 'model': 'claude-3-5-sonnet-20240620', 'stop_reason': 'end_turn', 'stop_sequence': None, 'usage': {'cache_creation': {'ephemeral_1h_input_tokens': 0, 'ephemeral_5m_input_tokens': 0}, 'cache_creation_input_tokens': 0, 'cache_read_input_tokens': 0, 'input_tokens': 713, 'output_tokens': 131, 'server_tool_use': None, 'service_tier': 'standard'}, 'model_name': 'claude-3-5-sonnet-20240620'}, id='run--afeb58a0-b204-434d-9d26-69b406bb0264-0', usage_metadata={'input_tokens': 713, 'output_tokens': 131, 'total_tokens': 844, 'input_token_details': {'cache_read': 0, 'cache_creation': 0, 'ephemeral_5m_input_tokens': 0, 'ephemeral_1h_input_tokens': 0}})"
      ]
     },
     "execution_count": 3,
     "metadata": {},
     "output_type": "execute_result"
    }
   ],
   "source": [
    "res['messages'][-1]"
   ]
  },
  {
   "cell_type": "code",
   "execution_count": 4,
   "id": "246f5534",
   "metadata": {},
   "outputs": [
    {
     "data": {
      "text/plain": [
       "[]"
      ]
     },
     "execution_count": 4,
     "metadata": {},
     "output_type": "execute_result"
    }
   ],
   "source": [
    "bad_memories"
   ]
  },
  {
   "cell_type": "code",
   "execution_count": 1,
   "id": "86461878",
   "metadata": {},
   "outputs": [
    {
     "ename": "NameError",
     "evalue": "name 'res' is not defined",
     "output_type": "error",
     "traceback": [
      "\u001b[31m---------------------------------------------------------------------------\u001b[39m",
      "\u001b[31mNameError\u001b[39m                                 Traceback (most recent call last)",
      "\u001b[36mCell\u001b[39m\u001b[36m \u001b[39m\u001b[32mIn[1]\u001b[39m\u001b[32m, line 1\u001b[39m\n\u001b[32m----> \u001b[39m\u001b[32m1\u001b[39m \u001b[43mres\u001b[49m\n",
      "\u001b[31mNameError\u001b[39m: name 'res' is not defined"
     ]
    }
   ],
   "source": [
    "res"
   ]
  },
  {
   "cell_type": "code",
   "execution_count": 5,
   "id": "d7d28264",
   "metadata": {},
   "outputs": [
    {
     "data": {
      "image/png": "[encoded data removed]",
      "text/plain": [
       "<IPython.core.display.Image object>"
      ]
     },
     "metadata": {},
     "output_type": "display_data"
    }
   ],
   "source": [
    "from IPython.display import Image, display\n",
    "\n",
    "try:\n",
    "    display(Image(graph.get_graph().draw_mermaid_png()))\n",
    "except Exception:\n",
    "    # This requires some extra dependencies and is optional\n",
    "    pass"
   ]
  },
  {
   "cell_type": "code",
   "execution_count": 8,
   "id": "7ef544e1",
   "metadata": {},
   "outputs": [
    {
     "name": "stdout",
     "output_type": "stream",
     "text": [
      "StateSnapshot(values={'messages': [HumanMessage(content=['My name is Alice and I love pizza. Remember this.'], additional_kwargs={}, response_metadata={}, id='db33ad24-8e04-4c93-a58a-87af87008c21'), AIMessage(content=[{'text': \"Hello Alice! It's wonderful to meet you. I'm delighted to learn that you love pizza - it's such a popular and delicious food! I'd be happy to remember this information about you. Let me store that in my memory.\", 'type': 'text'}, {'id': 'toolu_01KBbUnAev6Dm6Q5V4aCyZrr', 'input': {'content': 'Alice loves pizza.', 'context': 'This was mentioned during the initial introduction.'}, 'name': 'upsert_memory', 'type': 'tool_use'}], additional_kwargs={}, response_metadata={'id': 'msg_01TKaUrpxeGytQhGw34xBJCv', 'model': 'claude-3-5-sonnet-20240620', 'stop_reason': 'tool_use', 'stop_sequence': None, 'usage': {'cache_creation': {'ephemeral_1h_input_tokens': 0, 'ephemeral_5m_input_tokens': 0}, 'cache_creation_input_tokens': 0, 'cache_read_input_tokens': 0, 'input_tokens': 587, 'output_tokens': 131, 'server_tool_use': None, 'service_tier': 'standard'}, 'model_name': 'claude-3-5-sonnet-20240620'}, id='run--5f76acb0-03b1-4f7a-ac67-fff1c66457d2-0', tool_calls=[{'name': 'upsert_memory', 'args': {'content': 'Alice loves pizza.', 'context': 'This was mentioned during the initial introduction.'}, 'id': 'toolu_01KBbUnAev6Dm6Q5V4aCyZrr', 'type': 'tool_call'}], usage_metadata={'input_tokens': 587, 'output_tokens': 131, 'total_tokens': 718, 'input_token_details': {'cache_creation': 0, 'cache_read': 0, 'ephemeral_5m_input_tokens': 0, 'ephemeral_1h_input_tokens': 0}}), ToolMessage(content='Stored memory dcd289a5-e7d8-4738-a1f6-839d78fdf167', id='3359981e-cdb9-4e35-a6c4-f2c73b36a0c2', tool_call_id='toolu_01KBbUnAev6Dm6Q5V4aCyZrr'), AIMessage(content=\"Great! I've stored that information in my memory. Now, I'd love to know more about you, Alice. What's your favorite type of pizza? Do you have a preferred topping or style? And besides pizza, what other foods do you enjoy?\", additional_kwargs={}, response_metadata={'id': 'msg_01Hxq8nH2wHsvzAuaQKyZmmh', 'model': 'claude-3-5-sonnet-20240620', 'stop_reason': 'end_turn', 'stop_sequence': None, 'usage': {'cache_creation': {'ephemeral_1h_input_tokens': 0, 'ephemeral_5m_input_tokens': 0}, 'cache_creation_input_tokens': 0, 'cache_read_input_tokens': 0, 'input_tokens': 823, 'output_tokens': 57, 'server_tool_use': None, 'service_tier': 'standard'}, 'model_name': 'claude-3-5-sonnet-20240620'}, id='run--5a6ebadf-7b66-4bdc-843d-e5b4de078161-0', usage_metadata={'input_tokens': 823, 'output_tokens': 57, 'total_tokens': 880, 'input_token_details': {'cache_creation': 0, 'cache_read': 0, 'ephemeral_5m_input_tokens': 0, 'ephemeral_1h_input_tokens': 0}}), HumanMessage(content=[\"Hi, I'm Bob and I enjoy playing tennis. Remember this.\", 'Yes, I also have a pet dog named Max.', \"Max is a golden retriever and he's 5 years old. Please remember this too.\"], additional_kwargs={}, response_metadata={}, id='29a24dc7-b83f-44ee-962d-d1ef48886301'), AIMessage(content=[{'text': \"Hello Bob! It's great to meet you. Thank you for sharing that information about yourself and your pet. I'd be happy to remember these details for you. Let me store them in my memory.\", 'type': 'text'}, {'id': 'toolu_01SHtxiSBBVjdZv4BAyVRQcq', 'input': {'content': 'Bob enjoys playing tennis.', 'context': 'This was mentioned during the initial introduction.'}, 'name': 'upsert_memory', 'type': 'tool_use'}, {'id': 'toolu_0145eL2h8VecFXmQ2N3CXPTt', 'input': {'content': \"Bob has a pet dog named Max. Max is a golden retriever and he's 5 years old.\", 'context': 'This was shared while discussing pets.'}, 'name': 'upsert_memory', 'type': 'tool_use'}], additional_kwargs={}, response_metadata={'id': 'msg_01GQK1PG4bSY4wrf7RY5cENU', 'model': 'claude-3-5-sonnet-20240620', 'stop_reason': 'tool_use', 'stop_sequence': None, 'usage': {'cache_creation': {'ephemeral_1h_input_tokens': 0, 'ephemeral_5m_input_tokens': 0}, 'cache_creation_input_tokens': 0, 'cache_read_input_tokens': 0, 'input_tokens': 928, 'output_tokens': 204, 'server_tool_use': None, 'service_tier': 'standard'}, 'model_name': 'claude-3-5-sonnet-20240620'}, id='run--a8e620bb-6742-4d41-bde2-4954040560a2-0', tool_calls=[{'name': 'upsert_memory', 'args': {'content': 'Bob enjoys playing tennis.', 'context': 'This was mentioned during the initial introduction.'}, 'id': 'toolu_01SHtxiSBBVjdZv4BAyVRQcq', 'type': 'tool_call'}, {'name': 'upsert_memory', 'args': {'content': \"Bob has a pet dog named Max. Max is a golden retriever and he's 5 years old.\", 'context': 'This was shared while discussing pets.'}, 'id': 'toolu_0145eL2h8VecFXmQ2N3CXPTt', 'type': 'tool_call'}], usage_metadata={'input_tokens': 928, 'output_tokens': 204, 'total_tokens': 1132, 'input_token_details': {'cache_creation': 0, 'cache_read': 0, 'ephemeral_5m_input_tokens': 0, 'ephemeral_1h_input_tokens': 0}}), ToolMessage(content='Stored memory ddd19644-66d5-43ac-abca-19454bee9754', id='743eeb3f-2fbf-4073-af27-dd8e7131c24d', tool_call_id='toolu_01SHtxiSBBVjdZv4BAyVRQcq'), ToolMessage(content='Stored memory d4dfc256-79c8-4ae5-9a60-d00cabc62754', id='393c2434-d29a-486d-8527-6a9ec2c0dfef', tool_call_id='toolu_0145eL2h8VecFXmQ2N3CXPTt'), AIMessage(content=\"Excellent! I've stored both pieces of information in my memory. It's wonderful to learn that you enjoy playing tennis and that you have a pet dog. Golden retrievers are such lovely, friendly dogs!\\n\\nNow that I know a bit more about you, I'd love to hear more details:\\n\\n1. How long have you been playing tennis? Do you play competitively or just for fun?\\n2. What's your favorite thing about Max? Do you have any fun stories or experiences with him that you'd like to share?\\n3. Besides tennis, are there any other sports or hobbies you enjoy?\\n\\nFeel free to share as much or as little as you'd like. I'm here to chat and get to know you better!\", additional_kwargs={}, response_metadata={'id': 'msg_01Dtf3s5ok2q4M7udVhbktuN', 'model': 'claude-3-5-sonnet-20240620', 'stop_reason': 'end_turn', 'stop_sequence': None, 'usage': {'cache_creation': {'ephemeral_1h_input_tokens': 0, 'ephemeral_5m_input_tokens': 0}, 'cache_creation_input_tokens': 0, 'cache_read_input_tokens': 0, 'input_tokens': 1375, 'output_tokens': 160, 'server_tool_use': None, 'service_tier': 'standard'}, 'model_name': 'claude-3-5-sonnet-20240620'}, id='run--656f3028-bc2a-45ea-befe-9c1a78f83b34-0', usage_metadata={'input_tokens': 1375, 'output_tokens': 160, 'total_tokens': 1535, 'input_token_details': {'cache_creation': 0, 'cache_read': 0, 'ephemeral_5m_input_tokens': 0, 'ephemeral_1h_input_tokens': 0}}), HumanMessage(content=[\"Hello, I'm Charlie. I work as a software engineer and I'm passionate about AI. Remember this.\", \"I specialize in machine learning algorithms and I'm currently working on a project involving natural language processing.\", \"My main goal is to improve sentiment analysis accuracy in multi-lingual texts. It's challenging but exciting.\", \"We've made some progress using transformer models, but we're still working on handling context and idioms across languages.\", 'Chinese and English have been the most challenging pair so far due to their vast differences in structure and cultural contexts.'], additional_kwargs={}, response_metadata={}, id='03a96923-2b04-4dbe-8aed-a25169ce9f13'), AIMessage(content=[{'text': \"Hello Charlie! It's a pleasure to meet you. Thank you for sharing such detailed information about yourself and your work. I find your career and current project fascinating! I'll be sure to remember this information about you. Let me store that in my memory.\", 'type': 'text'}, {'id': 'toolu_014NQqTYLs69yUvMGE6Jd7in', 'input': {'content': \"Charlie is a software engineer specializing in machine learning algorithms, particularly in natural language processing. He's working on improving sentiment analysis accuracy in multi-lingual texts, focusing on transformer models and tackling challenges with context and idioms across languages, especially between Chinese and English.\", 'context': \"This was shared during an introduction about Charlie's professional background and current work in AI.\"}, 'name': 'upsert_memory', 'type': 'tool_use'}], additional_kwargs={}, response_metadata={'id': 'msg_01RDVQ244prKLLmZJsgSE3Sh', 'model': 'claude-3-5-sonnet-20240620', 'stop_reason': 'tool_use', 'stop_sequence': None, 'usage': {'cache_creation': {'ephemeral_1h_input_tokens': 0, 'ephemeral_5m_input_tokens': 0}, 'cache_creation_input_tokens': 0, 'cache_read_input_tokens': 0, 'input_tokens': 1647, 'output_tokens': 193, 'server_tool_use': None, 'service_tier': 'standard'}, 'model_name': 'claude-3-5-sonnet-20240620'}, id='run--9c150e05-6d08-4c93-ba20-8e637e6651bc-0', tool_calls=[{'name': 'upsert_memory', 'args': {'content': \"Charlie is a software engineer specializing in machine learning algorithms, particularly in natural language processing. He's working on improving sentiment analysis accuracy in multi-lingual texts, focusing on transformer models and tackling challenges with context and idioms across languages, especially between Chinese and English.\", 'context': \"This was shared during an introduction about Charlie's professional background and current work in AI.\"}, 'id': 'toolu_014NQqTYLs69yUvMGE6Jd7in', 'type': 'tool_call'}], usage_metadata={'input_tokens': 1647, 'output_tokens': 193, 'total_tokens': 1840, 'input_token_details': {'cache_creation': 0, 'cache_read': 0, 'ephemeral_5m_input_tokens': 0, 'ephemeral_1h_input_tokens': 0}}), ToolMessage(content='Stored memory c13f6a9f-aec2-471c-b824-650d465e0d54', id='77654602-92f4-4871-bb8b-81c6765d797d', tool_call_id='toolu_014NQqTYLs69yUvMGE6Jd7in'), AIMessage(content=\"Excellent! I've stored this information about you in my memory. Your work sounds incredibly interesting and challenging. As an AI language model myself, I can appreciate the complexities involved in natural language processing and sentiment analysis, especially across different languages.\\n\\nI'd love to hear more about your work and experiences:\\n\\n1. What inspired you to focus on multi-lingual sentiment analysis? \\n2. Can you share any specific breakthroughs or interesting findings you've had in your research, particularly regarding the challenges between Chinese and English?\\n3. Besides transformer models, are there any other approaches or technologies you're exploring to improve accuracy?\\n4. How do you see this technology being applied in real-world scenarios once you've achieved your accuracy goals?\\n5. Outside of your professional life, do you have any hobbies or interests that help you unwind from the complexities of your work?\\n\\nFeel free to answer any or all of these questions, or share anything else you'd like about your work or interests. I'm genuinely fascinated by your field of expertise!\", additional_kwargs={}, response_metadata={'id': 'msg_01EYHpX1FxUj13sCD6siY58g', 'model': 'claude-3-5-sonnet-20240620', 'stop_reason': 'end_turn', 'stop_sequence': None, 'usage': {'cache_creation': {'ephemeral_1h_input_tokens': 0, 'ephemeral_5m_input_tokens': 0}, 'cache_creation_input_tokens': 0, 'cache_read_input_tokens': 0, 'input_tokens': 1994, 'output_tokens': 227, 'server_tool_use': None, 'service_tier': 'standard'}, 'model_name': 'claude-3-5-sonnet-20240620'}, id='run--c88c2722-b9db-4f6b-b61e-143f7bd678d7-0', usage_metadata={'input_tokens': 1994, 'output_tokens': 227, 'total_tokens': 2221, 'input_token_details': {'cache_creation': 0, 'cache_read': 0, 'ephemeral_5m_input_tokens': 0, 'ephemeral_1h_input_tokens': 0}})]}, next=(), config={'configurable': {'thread_id': 'thread1', 'checkpoint_ns': '', 'checkpoint_id': '1f080f51-0a9d-61f7-800d-2836d1e6671f'}}, metadata={'source': 'loop', 'step': 13, 'parents': {}}, created_at='2025-08-24T14:17:28.339240+00:00', parent_config={'configurable': {'thread_id': 'thread1', 'checkpoint_ns': '', 'checkpoint_id': '1f080f50-e12a-6948-800c-9a12c2f257dc'}}, tasks=(), interrupts=())\n"
     ]
    }
   ],
   "source": [
    "\n",
    "state = graph.get_state(config={\"configurable\":{\"thread_id\": \"thread1\"}})\n",
    "print(state)"
   ]
  },
  {
   "cell_type": "code",
   "execution_count": 9,
   "id": "25087912",
   "metadata": {},
   "outputs": [
    {
     "data": {
      "text/plain": [
       "[HumanMessage(content=['My name is Alice and I love pizza. Remember this.'], additional_kwargs={}, response_metadata={}, id='db33ad24-8e04-4c93-a58a-87af87008c21'),\n",
       " AIMessage(content=[{'text': \"Hello Alice! It's wonderful to meet you. I'm delighted to learn that you love pizza - it's such a popular and delicious food! I'd be happy to remember this information about you. Let me store that in my memory.\", 'type': 'text'}, {'id': 'toolu_01KBbUnAev6Dm6Q5V4aCyZrr', 'input': {'content': 'Alice loves pizza.', 'context': 'This was mentioned during the initial introduction.'}, 'name': 'upsert_memory', 'type': 'tool_use'}], additional_kwargs={}, response_metadata={'id': 'msg_01TKaUrpxeGytQhGw34xBJCv', 'model': 'claude-3-5-sonnet-20240620', 'stop_reason': 'tool_use', 'stop_sequence': None, 'usage': {'cache_creation': {'ephemeral_1h_input_tokens': 0, 'ephemeral_5m_input_tokens': 0}, 'cache_creation_input_tokens': 0, 'cache_read_input_tokens': 0, 'input_tokens': 587, 'output_tokens': 131, 'server_tool_use': None, 'service_tier': 'standard'}, 'model_name': 'claude-3-5-sonnet-20240620'}, id='run--5f76acb0-03b1-4f7a-ac67-fff1c66457d2-0', tool_calls=[{'name': 'upsert_memory', 'args': {'content': 'Alice loves pizza.', 'context': 'This was mentioned during the initial introduction.'}, 'id': 'toolu_01KBbUnAev6Dm6Q5V4aCyZrr', 'type': 'tool_call'}], usage_metadata={'input_tokens': 587, 'output_tokens': 131, 'total_tokens': 718, 'input_token_details': {'cache_creation': 0, 'cache_read': 0, 'ephemeral_5m_input_tokens': 0, 'ephemeral_1h_input_tokens': 0}}),\n",
       " ToolMessage(content='Stored memory dcd289a5-e7d8-4738-a1f6-839d78fdf167', id='3359981e-cdb9-4e35-a6c4-f2c73b36a0c2', tool_call_id='toolu_01KBbUnAev6Dm6Q5V4aCyZrr'),\n",
       " AIMessage(content=\"Great! I've stored that information in my memory. Now, I'd love to know more about you, Alice. What's your favorite type of pizza? Do you have a preferred topping or style? And besides pizza, what other foods do you enjoy?\", additional_kwargs={}, response_metadata={'id': 'msg_01Hxq8nH2wHsvzAuaQKyZmmh', 'model': 'claude-3-5-sonnet-20240620', 'stop_reason': 'end_turn', 'stop_sequence': None, 'usage': {'cache_creation': {'ephemeral_1h_input_tokens': 0, 'ephemeral_5m_input_tokens': 0}, 'cache_creation_input_tokens': 0, 'cache_read_input_tokens': 0, 'input_tokens': 823, 'output_tokens': 57, 'server_tool_use': None, 'service_tier': 'standard'}, 'model_name': 'claude-3-5-sonnet-20240620'}, id='run--5a6ebadf-7b66-4bdc-843d-e5b4de078161-0', usage_metadata={'input_tokens': 823, 'output_tokens': 57, 'total_tokens': 880, 'input_token_details': {'cache_creation': 0, 'cache_read': 0, 'ephemeral_5m_input_tokens': 0, 'ephemeral_1h_input_tokens': 0}}),\n",
       " HumanMessage(content=[\"Hi, I'm Bob and I enjoy playing tennis. Remember this.\", 'Yes, I also have a pet dog named Max.', \"Max is a golden retriever and he's 5 years old. Please remember this too.\"], additional_kwargs={}, response_metadata={}, id='29a24dc7-b83f-44ee-962d-d1ef48886301'),\n",
       " AIMessage(content=[{'text': \"Hello Bob! It's great to meet you. Thank you for sharing that information about yourself and your pet. I'd be happy to remember these details for you. Let me store them in my memory.\", 'type': 'text'}, {'id': 'toolu_01SHtxiSBBVjdZv4BAyVRQcq', 'input': {'content': 'Bob enjoys playing tennis.', 'context': 'This was mentioned during the initial introduction.'}, 'name': 'upsert_memory', 'type': 'tool_use'}, {'id': 'toolu_0145eL2h8VecFXmQ2N3CXPTt', 'input': {'content': \"Bob has a pet dog named Max. Max is a golden retriever and he's 5 years old.\", 'context': 'This was shared while discussing pets.'}, 'name': 'upsert_memory', 'type': 'tool_use'}], additional_kwargs={}, response_metadata={'id': 'msg_01GQK1PG4bSY4wrf7RY5cENU', 'model': 'claude-3-5-sonnet-20240620', 'stop_reason': 'tool_use', 'stop_sequence': None, 'usage': {'cache_creation': {'ephemeral_1h_input_tokens': 0, 'ephemeral_5m_input_tokens': 0}, 'cache_creation_input_tokens': 0, 'cache_read_input_tokens': 0, 'input_tokens': 928, 'output_tokens': 204, 'server_tool_use': None, 'service_tier': 'standard'}, 'model_name': 'claude-3-5-sonnet-20240620'}, id='run--a8e620bb-6742-4d41-bde2-4954040560a2-0', tool_calls=[{'name': 'upsert_memory', 'args': {'content': 'Bob enjoys playing tennis.', 'context': 'This was mentioned during the initial introduction.'}, 'id': 'toolu_01SHtxiSBBVjdZv4BAyVRQcq', 'type': 'tool_call'}, {'name': 'upsert_memory', 'args': {'content': \"Bob has a pet dog named Max. Max is a golden retriever and he's 5 years old.\", 'context': 'This was shared while discussing pets.'}, 'id': 'toolu_0145eL2h8VecFXmQ2N3CXPTt', 'type': 'tool_call'}], usage_metadata={'input_tokens': 928, 'output_tokens': 204, 'total_tokens': 1132, 'input_token_details': {'cache_creation': 0, 'cache_read': 0, 'ephemeral_5m_input_tokens': 0, 'ephemeral_1h_input_tokens': 0}}),\n",
       " ToolMessage(content='Stored memory ddd19644-66d5-43ac-abca-19454bee9754', id='743eeb3f-2fbf-4073-af27-dd8e7131c24d', tool_call_id='toolu_01SHtxiSBBVjdZv4BAyVRQcq'),\n",
       " ToolMessage(content='Stored memory d4dfc256-79c8-4ae5-9a60-d00cabc62754', id='393c2434-d29a-486d-8527-6a9ec2c0dfef', tool_call_id='toolu_0145eL2h8VecFXmQ2N3CXPTt'),\n",
       " AIMessage(content=\"Excellent! I've stored both pieces of information in my memory. It's wonderful to learn that you enjoy playing tennis and that you have a pet dog. Golden retrievers are such lovely, friendly dogs!\\n\\nNow that I know a bit more about you, I'd love to hear more details:\\n\\n1. How long have you been playing tennis? Do you play competitively or just for fun?\\n2. What's your favorite thing about Max? Do you have any fun stories or experiences with him that you'd like to share?\\n3. Besides tennis, are there any other sports or hobbies you enjoy?\\n\\nFeel free to share as much or as little as you'd like. I'm here to chat and get to know you better!\", additional_kwargs={}, response_metadata={'id': 'msg_01Dtf3s5ok2q4M7udVhbktuN', 'model': 'claude-3-5-sonnet-20240620', 'stop_reason': 'end_turn', 'stop_sequence': None, 'usage': {'cache_creation': {'ephemeral_1h_input_tokens': 0, 'ephemeral_5m_input_tokens': 0}, 'cache_creation_input_tokens': 0, 'cache_read_input_tokens': 0, 'input_tokens': 1375, 'output_tokens': 160, 'server_tool_use': None, 'service_tier': 'standard'}, 'model_name': 'claude-3-5-sonnet-20240620'}, id='run--656f3028-bc2a-45ea-befe-9c1a78f83b34-0', usage_metadata={'input_tokens': 1375, 'output_tokens': 160, 'total_tokens': 1535, 'input_token_details': {'cache_creation': 0, 'cache_read': 0, 'ephemeral_5m_input_tokens': 0, 'ephemeral_1h_input_tokens': 0}}),\n",
       " HumanMessage(content=[\"Hello, I'm Charlie. I work as a software engineer and I'm passionate about AI. Remember this.\", \"I specialize in machine learning algorithms and I'm currently working on a project involving natural language processing.\", \"My main goal is to improve sentiment analysis accuracy in multi-lingual texts. It's challenging but exciting.\", \"We've made some progress using transformer models, but we're still working on handling context and idioms across languages.\", 'Chinese and English have been the most challenging pair so far due to their vast differences in structure and cultural contexts.'], additional_kwargs={}, response_metadata={}, id='03a96923-2b04-4dbe-8aed-a25169ce9f13'),\n",
       " AIMessage(content=[{'text': \"Hello Charlie! It's a pleasure to meet you. Thank you for sharing such detailed information about yourself and your work. I find your career and current project fascinating! I'll be sure to remember this information about you. Let me store that in my memory.\", 'type': 'text'}, {'id': 'toolu_014NQqTYLs69yUvMGE6Jd7in', 'input': {'content': \"Charlie is a software engineer specializing in machine learning algorithms, particularly in natural language processing. He's working on improving sentiment analysis accuracy in multi-lingual texts, focusing on transformer models and tackling challenges with context and idioms across languages, especially between Chinese and English.\", 'context': \"This was shared during an introduction about Charlie's professional background and current work in AI.\"}, 'name': 'upsert_memory', 'type': 'tool_use'}], additional_kwargs={}, response_metadata={'id': 'msg_01RDVQ244prKLLmZJsgSE3Sh', 'model': 'claude-3-5-sonnet-20240620', 'stop_reason': 'tool_use', 'stop_sequence': None, 'usage': {'cache_creation': {'ephemeral_1h_input_tokens': 0, 'ephemeral_5m_input_tokens': 0}, 'cache_creation_input_tokens': 0, 'cache_read_input_tokens': 0, 'input_tokens': 1647, 'output_tokens': 193, 'server_tool_use': None, 'service_tier': 'standard'}, 'model_name': 'claude-3-5-sonnet-20240620'}, id='run--9c150e05-6d08-4c93-ba20-8e637e6651bc-0', tool_calls=[{'name': 'upsert_memory', 'args': {'content': \"Charlie is a software engineer specializing in machine learning algorithms, particularly in natural language processing. He's working on improving sentiment analysis accuracy in multi-lingual texts, focusing on transformer models and tackling challenges with context and idioms across languages, especially between Chinese and English.\", 'context': \"This was shared during an introduction about Charlie's professional background and current work in AI.\"}, 'id': 'toolu_014NQqTYLs69yUvMGE6Jd7in', 'type': 'tool_call'}], usage_metadata={'input_tokens': 1647, 'output_tokens': 193, 'total_tokens': 1840, 'input_token_details': {'cache_creation': 0, 'cache_read': 0, 'ephemeral_5m_input_tokens': 0, 'ephemeral_1h_input_tokens': 0}}),\n",
       " ToolMessage(content='Stored memory c13f6a9f-aec2-471c-b824-650d465e0d54', id='77654602-92f4-4871-bb8b-81c6765d797d', tool_call_id='toolu_014NQqTYLs69yUvMGE6Jd7in'),\n",
       " AIMessage(content=\"Excellent! I've stored this information about you in my memory. Your work sounds incredibly interesting and challenging. As an AI language model myself, I can appreciate the complexities involved in natural language processing and sentiment analysis, especially across different languages.\\n\\nI'd love to hear more about your work and experiences:\\n\\n1. What inspired you to focus on multi-lingual sentiment analysis? \\n2. Can you share any specific breakthroughs or interesting findings you've had in your research, particularly regarding the challenges between Chinese and English?\\n3. Besides transformer models, are there any other approaches or technologies you're exploring to improve accuracy?\\n4. How do you see this technology being applied in real-world scenarios once you've achieved your accuracy goals?\\n5. Outside of your professional life, do you have any hobbies or interests that help you unwind from the complexities of your work?\\n\\nFeel free to answer any or all of these questions, or share anything else you'd like about your work or interests. I'm genuinely fascinated by your field of expertise!\", additional_kwargs={}, response_metadata={'id': 'msg_01EYHpX1FxUj13sCD6siY58g', 'model': 'claude-3-5-sonnet-20240620', 'stop_reason': 'end_turn', 'stop_sequence': None, 'usage': {'cache_creation': {'ephemeral_1h_input_tokens': 0, 'ephemeral_5m_input_tokens': 0}, 'cache_creation_input_tokens': 0, 'cache_read_input_tokens': 0, 'input_tokens': 1994, 'output_tokens': 227, 'server_tool_use': None, 'service_tier': 'standard'}, 'model_name': 'claude-3-5-sonnet-20240620'}, id='run--c88c2722-b9db-4f6b-b61e-143f7bd678d7-0', usage_metadata={'input_tokens': 1994, 'output_tokens': 227, 'total_tokens': 2221, 'input_token_details': {'cache_creation': 0, 'cache_read': 0, 'ephemeral_5m_input_tokens': 0, 'ephemeral_1h_input_tokens': 0}})]"
      ]
     },
     "execution_count": 9,
     "metadata": {},
     "output_type": "execute_result"
    }
   ],
   "source": [
    "state.values['messages']"
   ]
  },
  {
   "cell_type": "code",
   "execution_count": null,
   "id": "738b8a1e",
   "metadata": {},
   "outputs": [],
   "source": []
  }
 ],
 "metadata": {
  "kernelspec": {
   "display_name": ".venv",
   "language": "python",
   "name": "python3"
  },
  "language_info": {
   "codemirror_mode": {
    "name": "ipython",
    "version": 3
   },
   "file_extension": ".py",
   "mimetype": "text/x-python",
   "name": "python",
   "nbconvert_exporter": "python",
   "pygments_lexer": "ipython3",
   "version": "3.13.5"
  }
 },
 "nbformat": 4,
 "nbformat_minor": 5
}
