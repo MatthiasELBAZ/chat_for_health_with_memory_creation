{
 "cells": [
  {
   "cell_type": "code",
   "execution_count": 1,
   "id": "83e84879",
   "metadata": {},
   "outputs": [],
   "source": [
    "# from agent.graph import graph\n",
    "from agent.context import Context\n",
    "from langgraph.store.memory import InMemoryStore\n",
    "from langgraph.checkpoint.memory import MemorySaver\n",
    "from agent.graph import builder\n",
    "\n",
    "# Create the context and store\n",
    "context = Context(\n",
    "    user_id=\"test_user1\",\n",
    "    model=\"anthropic/claude-3-5-sonnet-20240620\",\n",
    ")\n",
    "\n",
    "store = InMemoryStore()\n",
    "\n",
    "# Build the graph with store and checkpointer\n",
    "graph = builder.compile(store=store, checkpointer=MemorySaver())\n",
    "\n"
   ]
  },
  {
   "cell_type": "code",
   "execution_count": 5,
   "id": "0e80ef00",
   "metadata": {},
   "outputs": [],
   "source": [
    "res =  await graph.ainvoke(\n",
    "        {\"messages\": [(\"user\", \"I am doing 10000 steps a day and 50 squats a day\")]},\n",
    "        {\"thread_id\": \"thread1\"},\n",
    "        context=context,\n",
    "    )"
   ]
  },
  {
   "cell_type": "code",
   "execution_count": 6,
   "id": "d17fba69",
   "metadata": {},
   "outputs": [
    {
     "name": "stdout",
     "output_type": "stream",
     "text": [
      "================================\u001b[1m Human Message \u001b[0m=================================\n",
      "\n",
      "how are you?\n",
      "==================================\u001b[1m Ai Message \u001b[0m==================================\n",
      "\n",
      "Hello! It's great to hear from you. I'm doing well, thank you for asking. More importantly, how are you doing today? I hope you're having a good day so far. \n",
      "\n",
      "I notice we don't have any stored information about your preferences or health goals yet. Would you like to share a bit about what brings you to chat with me today? Perhaps you have some health or fitness goals you'd like to work on, or maybe you're just curious about how I can help. I'm here to assist you with any health and wellness questions or to provide personalized insights based on your Fitbit data.\n",
      "================================\u001b[1m Human Message \u001b[0m=================================\n",
      "\n",
      "I am doing 10000 steps a day and 50 squats a day\n",
      "==================================\u001b[1m Ai Message \u001b[0m==================================\n",
      "\n",
      "[{'text': \"That's fantastic! I'm really impressed by your commitment to your health and fitness. Doing 10,000 steps and 50 squats daily is a great routine. Let me make sure I remember this important information about your current fitness habits.\", 'type': 'text'}, {'id': 'toolu_01PEsWcjZgJbba72PN6L7f9X', 'input': {'content': 'User is currently doing 10,000 steps and 50 squats daily.', 'context': 'This information was shared when discussing current fitness habits.'}, 'name': 'upsert_memory', 'type': 'tool_use'}]\n",
      "Tool Calls:\n",
      "  upsert_memory (toolu_01PEsWcjZgJbba72PN6L7f9X)\n",
      " Call ID: toolu_01PEsWcjZgJbba72PN6L7f9X\n",
      "  Args:\n",
      "    content: User is currently doing 10,000 steps and 50 squats daily.\n",
      "    context: This information was shared when discussing current fitness habits.\n",
      "=================================\u001b[1m Tool Message \u001b[0m=================================\n",
      "\n",
      "Stored memory 7a91c608-f361-4c82-9481-c58e48336ab9\n",
      "==================================\u001b[1m Ai Message \u001b[0m==================================\n",
      "\n",
      "Thank you for sharing that information. I've made a note of your current fitness routine. That's really commendable! \n",
      "\n",
      "10,000 steps a day is an excellent goal that many health organizations recommend for overall health and well-being. It can help improve cardiovascular health, maintain a healthy weight, and boost your mood. The 50 squats you're doing daily are also a great addition to your routine, as they help strengthen your lower body and core.\n",
      "\n",
      "I'm curious, how long have you been maintaining this routine? And how do you feel it's impacting your overall health and fitness? \n",
      "\n",
      "Also, do you have any specific fitness goals you're working towards with this routine? Understanding your goals can help me provide more tailored advice and support.\n"
     ]
    }
   ],
   "source": [
    "for message in res['messages']:\n",
    "    message.pretty_print()"
   ]
  },
  {
   "cell_type": "code",
   "execution_count": 7,
   "id": "048da2e9",
   "metadata": {},
   "outputs": [],
   "source": [
    "namespace = (\"memories\", context.user_id)\n",
    "memories = store.search(namespace)"
   ]
  },
  {
   "cell_type": "code",
   "execution_count": 8,
   "id": "ea5584e5",
   "metadata": {},
   "outputs": [
    {
     "data": {
      "text/plain": [
       "[Item(namespace=['memories', 'test_user1'], key='7a91c608-f361-4c82-9481-c58e48336ab9', value={'content': 'User is currently doing 10,000 steps and 50 squats daily.', 'context': 'This information was shared when discussing current fitness habits.'}, created_at='2025-08-25T11:42:06.680402+00:00', updated_at='2025-08-25T11:42:06.680411+00:00', score=None)]"
      ]
     },
     "execution_count": 8,
     "metadata": {},
     "output_type": "execute_result"
    }
   ],
   "source": [
    "memories"
   ]
  },
  {
   "cell_type": "code",
   "execution_count": 2,
   "id": "d7d28264",
   "metadata": {},
   "outputs": [
    {
     "data": {
      "image/png": "[encoded data removed]",
      "text/plain": [
       "<IPython.core.display.Image object>"
      ]
     },
     "metadata": {},
     "output_type": "display_data"
    }
   ],
   "source": [
    "from IPython.display import Image, display\n",
    "\n",
    "try:\n",
    "    display(Image(graph.get_graph().draw_mermaid_png()))\n",
    "except Exception:\n",
    "    # This requires some extra dependencies and is optional\n",
    "    pass"
   ]
  },
  {
   "cell_type": "code",
   "execution_count": null,
   "id": "5aa3be8e",
   "metadata": {},
   "outputs": [],
   "source": []
  }
 ],
 "metadata": {
  "kernelspec": {
   "display_name": ".venv",
   "language": "python",
   "name": "python3"
  },
  "language_info": {
   "codemirror_mode": {
    "name": "ipython",
    "version": 3
   },
   "file_extension": ".py",
   "mimetype": "text/x-python",
   "name": "python",
   "nbconvert_exporter": "python",
   "pygments_lexer": "ipython3",
   "version": "3.13.5"
  }
 },
 "nbformat": 4,
 "nbformat_minor": 5
}
